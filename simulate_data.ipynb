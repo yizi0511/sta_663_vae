{
 "cells": [
  {
   "cell_type": "code",
   "execution_count": 17,
   "metadata": {},
   "outputs": [],
   "source": [
    "import networkx as nx \n",
    "from scipy.sparse import csr_matrix\n",
    "import random\n",
    "import numpy as np\n",
    "#importing the matplotlib library for plotting the graph \n",
    "import matplotlib\n",
    "import matplotlib.pyplot as plt \n",
    "%matplotlib inline\n",
    "#matplotlib.use('Agg')\n",
    "from scipy.io import loadmat\n",
    "from numpy import linalg as LA\n",
    "import scipy.io"
   ]
  },
  {
   "cell_type": "code",
   "execution_count": 2,
   "metadata": {},
   "outputs": [],
   "source": [
    "nvex = 68\n",
    "random.seed(123456)\n",
    "\n",
    "net_data = []\n",
    "response = []\n",
    "nrep = 100\n",
    "A_erdos = np.zeros([nvex,nvex])\n",
    "A_small = np.zeros([nvex,nvex])\n",
    "A_commu = np.zeros([nvex,nvex])\n",
    "A_scale = np.zeros([nvex,nvex])\n",
    "for i in range(nrep):\n",
    "    ## Erdos network\n",
    "    G = nx.gnm_random_graph(nvex,400, seed=123) \n",
    "    A = nx.adjacency_matrix(G)\n",
    "    A = csr_matrix.todense(A)\n",
    "    A_erdos = A_erdos + A\n",
    "    net_data.append(A.reshape(nvex,nvex))\n",
    "    ## Small world network\n",
    "    G = nx.watts_strogatz_graph(nvex, 10, 0.5)\n",
    "    A = nx.adjacency_matrix(G)\n",
    "    A = csr_matrix.todense(A)\n",
    "    A_small = A_small + A\n",
    "    net_data.append(A.reshape(nvex,nvex))\n",
    "    ## Random Community network\n",
    "    G = nx.random_partition_graph([34, 34], .25,.01)\n",
    "    A = nx.adjacency_matrix(G)\n",
    "    A = csr_matrix.todense(A)\n",
    "    A_commu = A_commu + A\n",
    "    net_data.append(A.reshape(nvex, nvex))\n",
    "    ## Scale free network\n",
    "    G = nx.barabasi_albert_graph(nvex, 5)\n",
    "    A = nx.adjacency_matrix(G)\n",
    "    A = csr_matrix.todense(A)\n",
    "    A_scale = A_scale + A\n",
    "    net_data.append(A.reshape(nvex,nvex))"
   ]
  },
  {
   "cell_type": "code",
   "execution_count": 4,
   "metadata": {},
   "outputs": [],
   "source": [
    "alpha = np.zeros(68)\n",
    "alpha[0:17]=1\n",
    "\n",
    "\n",
    "net_data = []\n",
    "label = []\n",
    "nrep = 100\n",
    "for i in range(nrep):\n",
    "    A = np.random.binomial(1,0.8*A_erdos/nrep, A.shape)\n",
    "    # A = np.matmul(A,A)\n",
    "    net_data.append(A.reshape(nvex,nvex))\n",
    "    label.append(0.0)\n",
    "    A = np.random.binomial(1,A_small/nrep, A.shape)\n",
    "    # A = np.matmul(A,A)\n",
    "    net_data.append(A.reshape(nvex,nvex))\n",
    "    label.append(1.0)\n",
    "    A = np.random.binomial(1,A_commu/nrep, A.shape)\n",
    "    # A = np.matmul(A,A)\n",
    "    net_data.append(A.reshape(nvex,nvex))\n",
    "    label.append(2.0)\n",
    "    A = np.random.binomial(1,A_scale/nrep, A.shape)\n",
    "    # A = np.matmul(A,A)\n",
    "    net_data.append(A.reshape(nvex,nvex))\n",
    "    label.append(3.0)"
   ]
  },
  {
   "cell_type": "code",
   "execution_count": 25,
   "metadata": {},
   "outputs": [
    {
     "data": {
      "text/plain": [
       "<matplotlib.image.AxesImage at 0x11f386c18>"
      ]
     },
     "execution_count": 25,
     "metadata": {},
     "output_type": "execute_result"
    },
    {
     "data": {
      "image/png": "[encoded data removed]",
      "text/plain": [
       "<Figure size 1440x720 with 4 Axes>"
      ]
     },
     "metadata": {
      "needs_background": "light"
     },
     "output_type": "display_data"
    }
   ],
   "source": [
    "fig, axs = plt.subplots(4, figsize=(20, 10))\n",
    "fig.suptitle('Simulated graphs')\n",
    "axs[0].matshow(net_data[1])\n",
    "axs[1].matshow(net_data[2])\n",
    "axs[2].matshow(net_data[3])\n",
    "axs[3].matshow(net_data[4])"
   ]
  },
  {
   "cell_type": "code",
   "execution_count": null,
   "metadata": {},
   "outputs": [],
   "source": []
  }
 ],
 "metadata": {
  "kernelspec": {
   "display_name": "Python 3",
   "language": "python",
   "name": "python3"
  },
  "language_info": {
   "codemirror_mode": {
    "name": "ipython",
    "version": 3
   },
   "file_extension": ".py",
   "mimetype": "text/x-python",
   "name": "python",
   "nbconvert_exporter": "python",
   "pygments_lexer": "ipython3",
   "version": "3.6.7"
  }
 },
 "nbformat": 4,
 "nbformat_minor": 2
}
